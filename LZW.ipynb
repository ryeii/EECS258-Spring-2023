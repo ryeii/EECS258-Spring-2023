{
 "cells": [
  {
   "attachments": {},
   "cell_type": "markdown",
   "metadata": {},
   "source": [
    "# Lempel-Ziv-Welch (LZW) Compression Algorithm Demo\n",
    "\n",
    "Encoding, decoding, and printing the LZW table\n",
    "\n",
    "Author: Zhiyu An\n",
    "\n",
    "Date: 13-Mar-2023"
   ]
  },
  {
   "cell_type": "code",
   "execution_count": 38,
   "metadata": {},
   "outputs": [],
   "source": [
    "ALPHABET = {'A': 1, \n",
    "            'B': 2, \n",
    "            'C': 3}\n",
    "# ALPHABET = {}\n",
    "# ENGLISH = 'abcdefghijklmnopqrstuvwxyz ABCDEFGHIJKLMNOPQRSTUVWXYZ'\n",
    "# for i in range(27):\n",
    "#     ALPHABET[ENGLISH[i]] = i + 1\n",
    "INPUT = 'ABABBABCABABBA'\n",
    "# INPUT = 'the quick brown fox jumps over the lazy dog'"
   ]
  },
  {
   "cell_type": "code",
   "execution_count": 39,
   "metadata": {},
   "outputs": [
    {
     "name": "stdout",
     "output_type": "stream",
     "text": [
      "S\tC\tOutput\tCode\tString\n",
      "\t\t\t1\tA\n",
      "\t\t\t2\tB\n",
      "\t\t\t3\tC\n",
      "A\tB\t1\t4\tAB\n",
      "B\tA\t2\t5\tBA\n",
      "A\tB\t4\t6\tABB\n",
      "AB\tB\t5\t7\tBAB\n",
      "B\tA\t2\t8\tBC\n",
      "BA\tB\t3\t9\tCA\n",
      "B\tC\t4\t10\tABA\n",
      "C\tA\t6\t11\tABBA\n",
      "A\tB\t1\t\t\n",
      "AB\tA\t\t\t\n",
      "A\tB\t\t\t\n",
      "AB\tB\t\t\t\n",
      "ABB\tA\t\t\t\n",
      "A\tEOF\t\t\t\n",
      "Output:  1 2 4 5 2 3 4 6 1\n",
      "Input  :  ABABBABCABABBA\n",
      "Decoded:  ABABBABCABABBA\n",
      "Validated:  True\n"
     ]
    }
   ],
   "source": [
    "def encode(uncompressed):\n",
    "    dictionary = ALPHABET.copy() # Prelude\n",
    "    S, Output, S_history = \"\", [], [] # Initialize S and Output to none, and S_history for printing the table\n",
    "    for C in uncompressed: # For each character C in uncompressed\n",
    "        SC = S + C # Combine S and C\n",
    "        if SC in dictionary: # Check if SC is in the dictionary\n",
    "            S = SC # If so, set S to SC\n",
    "            S_history.append(S) # Add S to the history\n",
    "        else: # Otherwise\n",
    "            Output.append(dictionary[S]) # Add the code of S to the output\n",
    "            dictionary[SC] = len(dictionary) + 1 # Add SC to the dictionary and assign it a new code\n",
    "            S = C # Replace S with C\n",
    "            S_history.append(S) # Add S to the history\n",
    "    if S: # Tail case\n",
    "        Output.append(dictionary[S]) # Add the code of S to the output\n",
    "    '''Print LZW table'''\n",
    "    S_column = ['' for _ in range(len(ALPHABET))] + S_history # Get the S column\n",
    "    C_column = ['' for _ in range(len(ALPHABET))] + list(uncompressed)[1:] + ['EOF'] # Get the C column\n",
    "    Output_column = ['' for _ in range(len(ALPHABET))] + Output + ['' for _ in range(len(S_column))]# Get the Output column\n",
    "    Code_column = [dictionary[i] for i in list(dictionary.keys())] + ['' for _ in range(len(S_column))] # Get the Code column\n",
    "    String_column = list(dictionary.keys()) + ['' for _ in range(len(S_column))] # Get the String column\n",
    "    print('S\\tC\\tOutput\\tCode\\tString') # Print the header\n",
    "    for i in range(len(S_column)): # For each row\n",
    "        print(f'{S_column[i]}\\t{C_column[i]}\\t{Output_column[i]}\\t{Code_column[i]}\\t{String_column[i]}') # Print the row\n",
    "    return Output # Return the output\n",
    "\n",
    "\n",
    "def decode(compressed):\n",
    "    dictionary = ALPHABET.copy() # Prelude\n",
    "    dictionary = dict(zip(dictionary.values(), dictionary.keys())) # reverse dictionary\n",
    "    S = dictionary[compressed[0]] # Get the first character\n",
    "    compressed = compressed[1:] # Remove the first character from the compressed string\n",
    "    result = [S] # Set the result to the first character\n",
    "    for code in compressed: # For each code in the compressed string\n",
    "        if code in dictionary.keys(): # Check if the code is in the dictionary\n",
    "            entry = dictionary[code] # If so, set entry to the code\n",
    "        elif code == len(dictionary) + 1: # Otherwise, check if the code is the next code\n",
    "            entry = S + S[0] # If so, set entry to S + S[0]\n",
    "        else: # Otherwise\n",
    "            raise ValueError('Corrupted') # Raise an error\n",
    "        result.append(entry) # Add entry to the result\n",
    "        dictionary[len(dictionary) + 1] = S + entry[0] # Add S + entry[0] to the dictionary\n",
    "        S = entry # Set S to entry\n",
    "    return result # Return the decoded string\n",
    "\n",
    "\n",
    "compressed = encode(INPUT)\n",
    "print('Output: ', ' '.join([str(i) for i in compressed]))\n",
    "print('Input  : ', INPUT)\n",
    "print('Decoded: ', ''.join([str(i) for i in decode(compressed=compressed)]))\n",
    "print('Validated: ', INPUT == ''.join([str(i) for i in decode(compressed=compressed)]))"
   ]
  },
  {
   "cell_type": "code",
   "execution_count": null,
   "metadata": {},
   "outputs": [],
   "source": []
  }
 ],
 "metadata": {
  "kernelspec": {
   "display_name": "cs188",
   "language": "python",
   "name": "python3"
  },
  "language_info": {
   "codemirror_mode": {
    "name": "ipython",
    "version": 3
   },
   "file_extension": ".py",
   "mimetype": "text/x-python",
   "name": "python",
   "nbconvert_exporter": "python",
   "pygments_lexer": "ipython3",
   "version": "3.6.13"
  },
  "orig_nbformat": 4
 },
 "nbformat": 4,
 "nbformat_minor": 2
}
